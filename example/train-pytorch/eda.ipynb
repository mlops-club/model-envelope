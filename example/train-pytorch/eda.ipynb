{
 "cells": [
  {
   "cell_type": "code",
   "execution_count": 19,
   "metadata": {},
   "outputs": [],
   "source": [
    "import polars as pl\n",
    "from train_pytorch.constants import (\n",
    "    RUNESCAPE_ITEM_NAMES_DATASET_FPATH,\n",
    "    RUNESCAPE_ITEM_PRICES_DATASET_FPATH,\n",
    "    RUNESCAPE_ITEM_URLS_DATASET_FPATH,\n",
    ")\n",
    "\n",
    "rs_prices_df = pl.read_csv(RUNESCAPE_ITEM_PRICES_DATASET_FPATH)\n",
    "rs_names_df = pl.read_csv(RUNESCAPE_ITEM_NAMES_DATASET_FPATH)\n",
    "rs_urls_df = pl.read_csv(RUNESCAPE_ITEM_URLS_DATASET_FPATH)\n"
   ]
  },
  {
   "cell_type": "code",
   "execution_count": 23,
   "metadata": {},
   "outputs": [
    {
     "data": {
      "text/html": [
       "<div><style>\n",
       ".dataframe > thead > tr,\n",
       ".dataframe > tbody > tr {\n",
       "  text-align: right;\n",
       "  white-space: pre-wrap;\n",
       "}\n",
       "</style>\n",
       "<small>shape: (5, 6)</small><table border=\"1\" class=\"dataframe\"><thead><tr><th></th><th>id</th><th>price</th><th>volume</th><th>date</th><th>Name</th></tr><tr><td>i64</td><td>i64</td><td>i64</td><td>str</td><td>datetime[μs]</td><td>str</td></tr></thead><tbody><tr><td>0</td><td>10000</td><td>167</td><td>null</td><td>2008-05-20&nbsp;19:00:00</td><td>&quot;Hunter&nbsp;potion&nbsp;(3)&quot;</td></tr><tr><td>1</td><td>10000</td><td>167</td><td>null</td><td>2008-05-21&nbsp;19:00:00</td><td>&quot;Hunter&nbsp;potion&nbsp;(3)&quot;</td></tr><tr><td>2</td><td>10000</td><td>167</td><td>null</td><td>2008-05-22&nbsp;19:00:00</td><td>&quot;Hunter&nbsp;potion&nbsp;(3)&quot;</td></tr><tr><td>3</td><td>10000</td><td>175</td><td>null</td><td>2008-05-23&nbsp;19:00:00</td><td>&quot;Hunter&nbsp;potion&nbsp;(3)&quot;</td></tr><tr><td>4</td><td>10000</td><td>175</td><td>null</td><td>2008-05-24&nbsp;19:00:00</td><td>&quot;Hunter&nbsp;potion&nbsp;(3)&quot;</td></tr></tbody></table></div>"
      ],
      "text/plain": [
       "shape: (5, 6)\n",
       "┌─────┬───────┬───────┬────────┬─────────────────────┬───────────────────┐\n",
       "│     ┆ id    ┆ price ┆ volume ┆ date                ┆ Name              │\n",
       "│ --- ┆ ---   ┆ ---   ┆ ---    ┆ ---                 ┆ ---               │\n",
       "│ i64 ┆ i64   ┆ i64   ┆ str    ┆ datetime[μs]        ┆ str               │\n",
       "╞═════╪═══════╪═══════╪════════╪═════════════════════╪═══════════════════╡\n",
       "│ 0   ┆ 10000 ┆ 167   ┆ null   ┆ 2008-05-20 19:00:00 ┆ Hunter potion (3) │\n",
       "│ 1   ┆ 10000 ┆ 167   ┆ null   ┆ 2008-05-21 19:00:00 ┆ Hunter potion (3) │\n",
       "│ 2   ┆ 10000 ┆ 167   ┆ null   ┆ 2008-05-22 19:00:00 ┆ Hunter potion (3) │\n",
       "│ 3   ┆ 10000 ┆ 175   ┆ null   ┆ 2008-05-23 19:00:00 ┆ Hunter potion (3) │\n",
       "│ 4   ┆ 10000 ┆ 175   ┆ null   ┆ 2008-05-24 19:00:00 ┆ Hunter potion (3) │\n",
       "└─────┴───────┴───────┴────────┴─────────────────────┴───────────────────┘"
      ]
     },
     "execution_count": 23,
     "metadata": {},
     "output_type": "execute_result"
    }
   ],
   "source": [
    "import polars as pl\n",
    "\n",
    "# Ensure Name_ID is treated as a string, strip spaces, then cast to integer\n",
    "rs_names_df = rs_names_df.with_columns(\n",
    "    rs_names_df[\"Name_ID\"]\n",
    "    .cast(pl.Utf8)  # Ensure it's a string\n",
    "    .str.strip_chars()  # Remove leading/trailing spaces\n",
    "    .cast(pl.Int64)  # Convert to integer\n",
    ")\n",
    "\n",
    "# make price dates the right type\n",
    "rs_prices_df = rs_prices_df.with_columns(\n",
    "    rs_prices_df[\"date\"].str.strptime(pl.Datetime, format=\"%Y-%m-%d %H:%M:%S\"),\n",
    ")\n",
    "\n",
    "# Perform the join\n",
    "df = rs_prices_df.join(rs_names_df, left_on=\"id\", right_on=\"Name_ID\", how=\"inner\")\n",
    "df.head()\n"
   ]
  },
  {
   "cell_type": "code",
   "execution_count": null,
   "metadata": {},
   "outputs": [],
   "source": []
  }
 ],
 "metadata": {
  "kernelspec": {
   "display_name": ".venv",
   "language": "python",
   "name": "python3"
  },
  "language_info": {
   "codemirror_mode": {
    "name": "ipython",
    "version": 3
   },
   "file_extension": ".py",
   "mimetype": "text/x-python",
   "name": "python",
   "nbconvert_exporter": "python",
   "pygments_lexer": "ipython3",
   "version": "3.12.7"
  }
 },
 "nbformat": 4,
 "nbformat_minor": 2
}
